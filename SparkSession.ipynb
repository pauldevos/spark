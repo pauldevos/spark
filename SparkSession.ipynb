{
 "cells": [
  {
   "cell_type": "markdown",
   "id": "cec0bfcb",
   "metadata": {},
   "source": [
    "## SparkSession\n",
    "\n",
    "- At the core of every Spark application is the `Spark driver program`, which creates a `SparkSession` object. Which if executes as a shell, creates a `spark` variable.\n",
    "\n",
    "- `SparkSession` is the entry point to programming Spark with the `Dataset` and `DataFrame` API.\n",
    "\n",
    "- A SparkSession can be used `create DataFrame`, `register DataFrame as tables`, execute `SQL` over tables, `cache tables`, and `read parquet files`. To create a `SparkSession`, use the following builder pattern:"
   ]
  },
  {
   "cell_type": "markdown",
   "id": "802f0869",
   "metadata": {},
   "source": [
    "### Spark Job(s) -> Stage(s) -> Task(s)"
   ]
  },
  {
   "cell_type": "code",
   "execution_count": 4,
   "id": "78144519",
   "metadata": {},
   "outputs": [
    {
     "data": {
      "text/html": [
       "<img src=\"images/Spark-job-stage-task.png\" width=\"700\" height=\"800\"/>"
      ],
      "text/plain": [
       "<IPython.core.display.Image object>"
      ]
     },
     "execution_count": 4,
     "metadata": {},
     "output_type": "execute_result"
    }
   ],
   "source": [
    "from IPython.display import Image\n",
    "Image(url= \"images/Spark-job-stage-task.png\", width=700, height=800)"
   ]
  },
  {
   "cell_type": "code",
   "execution_count": null,
   "id": "4d1d1376",
   "metadata": {},
   "outputs": [],
   "source": []
  },
  {
   "cell_type": "markdown",
   "id": "daf02231",
   "metadata": {},
   "source": [
    "## Transformations, Actions, and Lazy Evaluation\n",
    "\n",
    "- Transformations are all `lazy` by default and make up a `lineage` of transformations to be executed at a later time.\n",
    "- A recorded lineage ___allows Spark___, at a later time in its execution plan, to rearrange certain transformations, coalesce them, or optimize transformations into stages for more efficient execution."
   ]
  },
  {
   "cell_type": "code",
   "execution_count": null,
   "id": "b3ba966a",
   "metadata": {},
   "outputs": [],
   "source": []
  },
  {
   "cell_type": "markdown",
   "id": "402249a1",
   "metadata": {},
   "source": [
    "### Narrow vs Wide Dependencies\n",
    "- Transformations can be classified as having either narrow dependencies or wide dependencies. Any transformation where a single output partition can be computed from a single input partition is a narrow transformation. For example, in the previous code snippet, filter() and contains() represent narrow transformations because they can operate on a single partition and produce the resulting output partition without any exchange of data.\n",
    "- However, `groupBy()` or `orderBy()` instruct Spark to perform wide transformations, where data from other partitions is read in, combined, and written to disk. **They go across all partitions.**"
   ]
  },
  {
   "cell_type": "code",
   "execution_count": 2,
   "id": "b690b733",
   "metadata": {},
   "outputs": [],
   "source": [
    "from pyspark.sql import SparkSession"
   ]
  },
  {
   "cell_type": "code",
   "execution_count": 3,
   "id": "fe912657",
   "metadata": {},
   "outputs": [
    {
     "name": "stderr",
     "output_type": "stream",
     "text": [
      "22/06/06 21:37:34 WARN Utils: Your hostname, Pauls-MacBook-Pro.local resolves to a loopback address: 127.0.0.1; using 192.168.4.90 instead (on interface en0)\n",
      "22/06/06 21:37:34 WARN Utils: Set SPARK_LOCAL_IP if you need to bind to another address\n",
      "WARNING: An illegal reflective access operation has occurred\n",
      "WARNING: Illegal reflective access by org.apache.spark.unsafe.Platform (file:/opt/homebrew/Cellar/apache-spark/3.2.1/libexec/jars/spark-unsafe_2.12-3.2.1.jar) to constructor java.nio.DirectByteBuffer(long,int)\n",
      "WARNING: Please consider reporting this to the maintainers of org.apache.spark.unsafe.Platform\n",
      "WARNING: Use --illegal-access=warn to enable warnings of further illegal reflective access operations\n",
      "WARNING: All illegal access operations will be denied in a future release\n",
      "Using Spark's default log4j profile: org/apache/spark/log4j-defaults.properties\n",
      "Setting default log level to \"WARN\".\n",
      "To adjust logging level use sc.setLogLevel(newLevel). For SparkR, use setLogLevel(newLevel).\n",
      "22/06/06 21:37:34 WARN NativeCodeLoader: Unable to load native-hadoop library for your platform... using builtin-java classes where applicable\n"
     ]
    }
   ],
   "source": [
    "spark = SparkSession.builder \\\n",
    "    .master(\"local\") \\\n",
    "    .appName(\"Word Count\") \\\n",
    "    .config(\"spark.some.config.option\", \"some-value\") \\\n",
    "    .getOrCreate()"
   ]
  },
  {
   "cell_type": "code",
   "execution_count": null,
   "id": "1e1fe082",
   "metadata": {},
   "outputs": [],
   "source": []
  }
 ],
 "metadata": {
  "kernelspec": {
   "display_name": "PySpark 3.3 (Python 3.9)",
   "language": "python",
   "name": "pyspark3"
  },
  "language_info": {
   "codemirror_mode": {
    "name": "ipython",
    "version": 3
   },
   "file_extension": ".py",
   "mimetype": "text/x-python",
   "name": "python",
   "nbconvert_exporter": "python",
   "pygments_lexer": "ipython3",
   "version": "3.9.13"
  }
 },
 "nbformat": 4,
 "nbformat_minor": 5
}
