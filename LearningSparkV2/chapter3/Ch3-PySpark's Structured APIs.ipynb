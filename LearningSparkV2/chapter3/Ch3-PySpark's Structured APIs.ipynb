{
 "cells": [
  {
   "cell_type": "code",
   "execution_count": 1,
   "id": "4211f318",
   "metadata": {},
   "outputs": [],
   "source": [
    "from pyspark.context import SparkContext"
   ]
  },
  {
   "cell_type": "code",
   "execution_count": 2,
   "id": "47e34965",
   "metadata": {},
   "outputs": [
    {
     "name": "stdout",
     "output_type": "stream",
     "text": [
      "22/11/25 15:16:22 WARN Utils: Your hostname, Pauls-MacBook-Pro.local resolves to a loopback address: 127.0.0.1; using 192.168.4.90 instead (on interface en0)\n",
      "22/11/25 15:16:22 WARN Utils: Set SPARK_LOCAL_IP if you need to bind to another address\n"
     ]
    },
    {
     "name": "stderr",
     "output_type": "stream",
     "text": [
      "Setting default log level to \"WARN\".\n",
      "To adjust logging level use sc.setLogLevel(newLevel). For SparkR, use setLogLevel(newLevel).\n"
     ]
    },
    {
     "name": "stdout",
     "output_type": "stream",
     "text": [
      "22/11/25 15:16:23 WARN NativeCodeLoader: Unable to load native-hadoop library for your platform... using builtin-java classes where applicable\n",
      "22/11/25 15:16:23 WARN Utils: Service 'SparkUI' could not bind on port 4040. Attempting port 4041.\n"
     ]
    }
   ],
   "source": [
    "sc = SparkContext(master='local',\n",
    "    appName='RDD-Test',\n",
    "    sparkHome=None,\n",
    "    pyFiles=None,\n",
    "    environment=None,\n",
    "    batchSize=0,\n",
    "    conf=None,\n",
    "    gateway=None,\n",
    "    jsc=None)"
   ]
  },
  {
   "cell_type": "code",
   "execution_count": null,
   "id": "fa7cbd8e",
   "metadata": {},
   "outputs": [],
   "source": []
  },
  {
   "cell_type": "code",
   "execution_count": 3,
   "id": "9e3e3b5c",
   "metadata": {},
   "outputs": [],
   "source": [
    "# In Python\n",
    "# Create an RDD of tuples (name, age)\n",
    "dataRDD = sc.parallelize([(\"Brooke\", 20), (\"Denny\", 31), (\"Jules\", 30), \n",
    "  (\"TD\", 35), (\"Brooke\", 25)])\n",
    "# Use map and reduceByKey transformations with their lambda \n",
    "# expressions to aggregate and then compute average\n",
    "\n",
    "agesRDD = (dataRDD\n",
    "  .map(lambda x: (x[0], (x[1], 1)))\n",
    "  .reduceByKey(lambda x, y: (x[0] + y[0], x[1] + y[1]))\n",
    "  .map(lambda x: (x[0], x[1][0]/x[1][1])))"
   ]
  },
  {
   "cell_type": "code",
   "execution_count": 4,
   "id": "2b7d105f",
   "metadata": {},
   "outputs": [
    {
     "name": "stderr",
     "output_type": "stream",
     "text": [
      "\r",
      "[Stage 0:>                                                          (0 + 1) / 1]\r",
      "\r",
      "                                                                                \r"
     ]
    },
    {
     "data": {
      "text/plain": [
       "[('Brooke', 22.5), ('Denny', 31.0), ('Jules', 30.0), ('TD', 35.0)]"
      ]
     },
     "execution_count": 4,
     "metadata": {},
     "output_type": "execute_result"
    }
   ],
   "source": [
    "agesRDD.collect()"
   ]
  },
  {
   "cell_type": "code",
   "execution_count": 5,
   "id": "fab6b917",
   "metadata": {},
   "outputs": [
    {
     "name": "stdout",
     "output_type": "stream",
     "text": [
      "+------+-------+\n",
      "|  name|avg_age|\n",
      "+------+-------+\n",
      "|Brooke|   22.5|\n",
      "| Jules|   30.0|\n",
      "|    TD|   35.0|\n",
      "| Denny|   31.0|\n",
      "+------+-------+\n",
      "\n"
     ]
    }
   ],
   "source": [
    "# In Python \n",
    "from pyspark.sql import SparkSession\n",
    "from pyspark.sql.functions import avg\n",
    "# Create a DataFrame using SparkSession\n",
    "spark = (SparkSession\n",
    "  .builder\n",
    "  .appName(\"AuthorsAges\")\n",
    "  .getOrCreate())\n",
    "# Create a DataFrame \n",
    "data_df = spark.createDataFrame([(\"Brooke\", 20), (\"Denny\", 31), (\"Jules\", 30), \n",
    "  (\"TD\", 35), (\"Brooke\", 25)], schema=[\"name\", \"age\"])\n",
    "# Group the same names together, aggregate their ages, and compute an average\n",
    "avg_df = data_df.groupBy(\"name\").agg(avg(\"age\").alias(\"avg_age\"))\n",
    "# Show the results of the final execution\n",
    "avg_df.show()"
   ]
  },
  {
   "cell_type": "markdown",
   "id": "d4c53f06",
   "metadata": {},
   "source": [
    "### Scala example, does same thing as above (in Python)\n",
    "\n",
    "```scala\n",
    "import org.apache.spark.sql.functions.avg\n",
    "import org.apache.spark.sql.SparkSession\n",
    "// Create a DataFrame using SparkSession\n",
    "val spark = SparkSession\n",
    "  .builder\n",
    "  .appName(\"AuthorsAges\")\n",
    "  .getOrCreate()\n",
    "// Create a DataFrame of names and ages\n",
    "val dataDF = spark.createDataFrame(Seq((\"Brooke\", 20), (\"Brooke\", 25), \n",
    "  (\"Denny\", 31), (\"Jules\", 30), (\"TD\", 35))).toDF(\"name\", \"age\")\n",
    "// Group the same names together, aggregate their ages, and compute an average\n",
    "val avgDF = dataDF.groupBy(\"name\").agg(avg(\"age\"))\n",
    "// Show the results of the final execution\n",
    "avgDF.show()\n",
    "```"
   ]
  },
  {
   "cell_type": "code",
   "execution_count": 6,
   "id": "049f3692",
   "metadata": {},
   "outputs": [],
   "source": [
    "# Define schema for our data using DDL \n",
    "schema = \"\"\"`Id` INT, `First` STRING, `Last` STRING, `Url` STRING, `Published` STRING, `Hits` INT, `Campaigns` ARRAY<STRING>\"\"\""
   ]
  },
  {
   "cell_type": "code",
   "execution_count": 7,
   "id": "a81dace9",
   "metadata": {},
   "outputs": [
    {
     "name": "stdout",
     "output_type": "stream",
     "text": [
      "22/11/25 15:16:26 WARN SparkSession: Using an existing Spark session; only runtime SQL configurations will take effect.\n"
     ]
    }
   ],
   "source": [
    "spark = SparkSession.builder.appName(\"Example-3_7\").getOrCreate()\n"
   ]
  },
  {
   "cell_type": "code",
   "execution_count": 8,
   "id": "5b737ce1",
   "metadata": {},
   "outputs": [
    {
     "name": "stdout",
     "output_type": "stream",
     "text": [
      "ls: -alh: No such file or directory\r\n",
      "data:\r\n",
      "blogs.json         sf-fire-calls.csv\r\n"
     ]
    }
   ],
   "source": [
    "ls data -alh"
   ]
  },
  {
   "cell_type": "code",
   "execution_count": 9,
   "id": "0be092b7",
   "metadata": {},
   "outputs": [],
   "source": [
    "blogs_df = spark.read.schema(schema).json(\"data/blogs.json\")"
   ]
  },
  {
   "cell_type": "code",
   "execution_count": 10,
   "id": "d1c3c1aa",
   "metadata": {},
   "outputs": [
    {
     "name": "stdout",
     "output_type": "stream",
     "text": [
      "+---+---------+-------+-----------------+---------+-----+--------------------+\n",
      "| Id|    First|   Last|              Url|Published| Hits|           Campaigns|\n",
      "+---+---------+-------+-----------------+---------+-----+--------------------+\n",
      "|  1|    Jules|  Damji|https://tinyurl.1| 1/4/2016| 4535| [twitter, LinkedIn]|\n",
      "|  2|   Brooke|  Wenig|https://tinyurl.2| 5/5/2018| 8908| [twitter, LinkedIn]|\n",
      "|  3|    Denny|    Lee|https://tinyurl.3| 6/7/2019| 7659|[web, twitter, FB...|\n",
      "|  4|Tathagata|    Das|https://tinyurl.4|5/12/2018|10568|       [twitter, FB]|\n",
      "|  5|    Matei|Zaharia|https://tinyurl.5|5/14/2014|40578|[web, twitter, FB...|\n",
      "+---+---------+-------+-----------------+---------+-----+--------------------+\n",
      "only showing top 5 rows\n",
      "\n"
     ]
    }
   ],
   "source": [
    "blogs_df.show(5)"
   ]
  },
  {
   "cell_type": "code",
   "execution_count": 11,
   "id": "c1e8c933",
   "metadata": {},
   "outputs": [
    {
     "name": "stdout",
     "output_type": "stream",
     "text": [
      "root\n",
      " |-- Id: integer (nullable = true)\n",
      " |-- First: string (nullable = true)\n",
      " |-- Last: string (nullable = true)\n",
      " |-- Url: string (nullable = true)\n",
      " |-- Published: string (nullable = true)\n",
      " |-- Hits: integer (nullable = true)\n",
      " |-- Campaigns: array (nullable = true)\n",
      " |    |-- element: string (containsNull = true)\n",
      "\n"
     ]
    }
   ],
   "source": [
    "blogs_df.printSchema()"
   ]
  },
  {
   "cell_type": "code",
   "execution_count": 12,
   "id": "835c4ab8",
   "metadata": {},
   "outputs": [
    {
     "data": {
      "text/plain": [
       "pyspark.sql.dataframe.DataFrame"
      ]
     },
     "execution_count": 12,
     "metadata": {},
     "output_type": "execute_result"
    }
   ],
   "source": [
    "type(blogs_df)"
   ]
  },
  {
   "cell_type": "code",
   "execution_count": 13,
   "id": "f6d4dfb2",
   "metadata": {},
   "outputs": [],
   "source": [
    "from pyspark.sql.functions import mean, round"
   ]
  },
  {
   "cell_type": "code",
   "execution_count": null,
   "id": "3f915646",
   "metadata": {},
   "outputs": [],
   "source": []
  },
  {
   "cell_type": "code",
   "execution_count": null,
   "id": "fc7eeaba",
   "metadata": {},
   "outputs": [],
   "source": []
  },
  {
   "cell_type": "code",
   "execution_count": 14,
   "id": "e1de2dac",
   "metadata": {},
   "outputs": [
    {
     "name": "stdout",
     "output_type": "stream",
     "text": [
      "+--------------------+---------+-----+---+-------+---------+-----------------+\n",
      "|           Campaigns|    First| Hits| Id|   Last|Published|              Url|\n",
      "+--------------------+---------+-----+---+-------+---------+-----------------+\n",
      "| [twitter, LinkedIn]|    Jules| 4535|  1|  Damji| 1/4/2016|https://tinyurl.1|\n",
      "| [twitter, LinkedIn]|   Brooke| 8908|  2|  Wenig| 5/5/2018|https://tinyurl.2|\n",
      "|[web, twitter, FB...|    Denny| 7659|  3|    Lee| 6/7/2019|https://tinyurl.3|\n",
      "|       [twitter, FB]|Tathagata|10568|  4|    Das|5/12/2018|https://tinyurl.4|\n",
      "|[web, twitter, FB...|    Matei|40578|  5|Zaharia|5/14/2014|https://tinyurl.5|\n",
      "| [twitter, LinkedIn]|  Reynold|25568|  6|    Xin| 3/2/2015|https://tinyurl.6|\n",
      "+--------------------+---------+-----+---+-------+---------+-----------------+\n",
      "\n"
     ]
    }
   ],
   "source": [
    "spark.read.json(\"data/blogs.json\").show()"
   ]
  },
  {
   "cell_type": "code",
   "execution_count": 15,
   "id": "fef7b2d1",
   "metadata": {},
   "outputs": [
    {
     "name": "stdout",
     "output_type": "stream",
     "text": [
      "root\n",
      " |-- Campaigns: array (nullable = true)\n",
      " |    |-- element: string (containsNull = true)\n",
      " |-- First: string (nullable = true)\n",
      " |-- Hits: long (nullable = true)\n",
      " |-- Id: long (nullable = true)\n",
      " |-- Last: string (nullable = true)\n",
      " |-- Published: string (nullable = true)\n",
      " |-- Url: string (nullable = true)\n",
      "\n"
     ]
    }
   ],
   "source": [
    "spark.read.json(\"data/blogs.json\").printSchema()"
   ]
  },
  {
   "cell_type": "code",
   "execution_count": 16,
   "id": "481fa541",
   "metadata": {},
   "outputs": [
    {
     "name": "stdout",
     "output_type": "stream",
     "text": [
      "root\n",
      " |-- Id: integer (nullable = true)\n",
      " |-- First: string (nullable = true)\n",
      " |-- Last: string (nullable = true)\n",
      " |-- Url: string (nullable = true)\n",
      " |-- Published: string (nullable = true)\n",
      " |-- Hits: integer (nullable = true)\n",
      " |-- Campaigns: array (nullable = true)\n",
      " |    |-- element: string (containsNull = true)\n",
      "\n"
     ]
    }
   ],
   "source": [
    "blogs_df.printSchema()"
   ]
  },
  {
   "cell_type": "markdown",
   "id": "5c72b41b",
   "metadata": {},
   "source": [
    "Pretty close (almost the same) for infering the data types just reading the JSON file"
   ]
  },
  {
   "cell_type": "code",
   "execution_count": 17,
   "id": "695a99b2",
   "metadata": {},
   "outputs": [
    {
     "name": "stdout",
     "output_type": "stream",
     "text": [
      "+-------------------+\n",
      "|round(avg(Hits), 3)|\n",
      "+-------------------+\n",
      "|          16302.667|\n",
      "+-------------------+\n",
      "\n"
     ]
    }
   ],
   "source": [
    "blogs_df.agg(round(mean('Hits'),3)).show()"
   ]
  },
  {
   "cell_type": "code",
   "execution_count": 18,
   "id": "c8e726bf",
   "metadata": {},
   "outputs": [],
   "source": [
    "from pyspark.sql.functions import expr, column"
   ]
  },
  {
   "cell_type": "code",
   "execution_count": 19,
   "id": "10d724d4",
   "metadata": {},
   "outputs": [
    {
     "name": "stdout",
     "output_type": "stream",
     "text": [
      "+-----+----------+\n",
      "| Hits|(Hits * 2)|\n",
      "+-----+----------+\n",
      "| 4535|      9070|\n",
      "| 8908|     17816|\n",
      "| 7659|     15318|\n",
      "|10568|     21136|\n",
      "|40578|     81156|\n",
      "|25568|     51136|\n",
      "+-----+----------+\n",
      "\n"
     ]
    }
   ],
   "source": [
    "blogs_df.select(\"Hits\", expr(\"Hits * 2\")).show()"
   ]
  },
  {
   "cell_type": "code",
   "execution_count": 20,
   "id": "171ac446",
   "metadata": {},
   "outputs": [
    {
     "name": "stdout",
     "output_type": "stream",
     "text": [
      "+-----+----------+\n",
      "| Hits|(Hits * 2)|\n",
      "+-----+----------+\n",
      "| 4535|      9070|\n",
      "| 8908|     17816|\n",
      "| 7659|     15318|\n",
      "|10568|     21136|\n",
      "|40578|     81156|\n",
      "|25568|     51136|\n",
      "+-----+----------+\n",
      "\n"
     ]
    }
   ],
   "source": [
    "blogs_df.select(column(\"Hits\"), column(\"Hits\") * 2).show()"
   ]
  },
  {
   "cell_type": "code",
   "execution_count": 21,
   "id": "a3a51b62",
   "metadata": {},
   "outputs": [
    {
     "name": "stdout",
     "output_type": "stream",
     "text": [
      "+---+---------+-------+-----------------+---------+-----+--------------------+-----------+\n",
      "| Id|    First|   Last|              Url|Published| Hits|           Campaigns|Big Hitters|\n",
      "+---+---------+-------+-----------------+---------+-----+--------------------+-----------+\n",
      "|  1|    Jules|  Damji|https://tinyurl.1| 1/4/2016| 4535| [twitter, LinkedIn]|      false|\n",
      "|  2|   Brooke|  Wenig|https://tinyurl.2| 5/5/2018| 8908| [twitter, LinkedIn]|      false|\n",
      "|  3|    Denny|    Lee|https://tinyurl.3| 6/7/2019| 7659|[web, twitter, FB...|      false|\n",
      "|  4|Tathagata|    Das|https://tinyurl.4|5/12/2018|10568|       [twitter, FB]|       true|\n",
      "|  5|    Matei|Zaharia|https://tinyurl.5|5/14/2014|40578|[web, twitter, FB...|       true|\n",
      "|  6|  Reynold|    Xin|https://tinyurl.6| 3/2/2015|25568| [twitter, LinkedIn]|       true|\n",
      "+---+---------+-------+-----------------+---------+-----+--------------------+-----------+\n",
      "\n"
     ]
    }
   ],
   "source": [
    "# This adds a new column, Big Hitters, based on the conditional expression\n",
    "blogs_df.withColumn(\"Big Hitters\", (expr(\"Hits > 10000\"))).show()"
   ]
  },
  {
   "cell_type": "code",
   "execution_count": 22,
   "id": "7843f441",
   "metadata": {},
   "outputs": [
    {
     "name": "stdout",
     "output_type": "stream",
     "text": [
      "+---+---------+-------+-----------------+---------+-----+--------------------+\n",
      "| Id|    First|   Last|              Url|Published| Hits|           Campaigns|\n",
      "+---+---------+-------+-----------------+---------+-----+--------------------+\n",
      "|  5|    Matei|Zaharia|https://tinyurl.5|5/14/2014|40578|[web, twitter, FB...|\n",
      "|  6|  Reynold|    Xin|https://tinyurl.6| 3/2/2015|25568| [twitter, LinkedIn]|\n",
      "|  4|Tathagata|    Das|https://tinyurl.4|5/12/2018|10568|       [twitter, FB]|\n",
      "|  2|   Brooke|  Wenig|https://tinyurl.2| 5/5/2018| 8908| [twitter, LinkedIn]|\n",
      "|  3|    Denny|    Lee|https://tinyurl.3| 6/7/2019| 7659|[web, twitter, FB...|\n",
      "|  1|    Jules|  Damji|https://tinyurl.1| 1/4/2016| 4535| [twitter, LinkedIn]|\n",
      "+---+---------+-------+-----------------+---------+-----+--------------------+\n",
      "\n"
     ]
    }
   ],
   "source": [
    "blogs_df.sort(\"Hits\", ascending=False).show()"
   ]
  },
  {
   "cell_type": "code",
   "execution_count": null,
   "id": "e2c621c8",
   "metadata": {},
   "outputs": [],
   "source": []
  },
  {
   "cell_type": "markdown",
   "id": "6982cda4",
   "metadata": {},
   "source": [
    "# Rows"
   ]
  },
  {
   "cell_type": "code",
   "execution_count": 23,
   "id": "8e3daeec",
   "metadata": {},
   "outputs": [
    {
     "data": {
      "text/plain": [
       "'Reynold'"
      ]
     },
     "execution_count": 23,
     "metadata": {},
     "output_type": "execute_result"
    }
   ],
   "source": [
    "# In Python\n",
    "from pyspark.sql import Row\n",
    "\n",
    "\n",
    "blog_row = Row(6, \"Reynold\", \"Xin\", \"https://tinyurl.6\", 255568, \"3/2/2015\", [\"twitter\", \"LinkedIn\"])\n",
    "# access using index for individual items\n",
    "blog_row[1]"
   ]
  },
  {
   "cell_type": "code",
   "execution_count": 24,
   "id": "6e95c46c",
   "metadata": {},
   "outputs": [
    {
     "data": {
      "text/plain": [
       "'https://tinyurl.6'"
      ]
     },
     "execution_count": 24,
     "metadata": {},
     "output_type": "execute_result"
    }
   ],
   "source": [
    "blog_row[3]"
   ]
  },
  {
   "cell_type": "code",
   "execution_count": 25,
   "id": "98f106c3",
   "metadata": {},
   "outputs": [],
   "source": [
    "# In Python, define a schema \n",
    "from pyspark.sql.types import *\n",
    "\n",
    "# Programmatic way to define a schema \n",
    "fire_schema = StructType([StructField('CallNumber', IntegerType(), True),\n",
    "                StructField('UnitID', StringType(), True),\n",
    "                StructField('IncidentNumber', IntegerType(), True),\n",
    "                StructField('CallType', StringType(), True),                  \n",
    "                StructField('CallDate', StringType(), True),      \n",
    "                StructField('WatchDate', StringType(), True),\n",
    "                StructField('CallFinalDisposition', StringType(), True),\n",
    "                StructField('AvailableDtTm', StringType(), True),\n",
    "                StructField('Address', StringType(), True),       \n",
    "                StructField('City', StringType(), True),       \n",
    "                StructField('Zipcode', IntegerType(), True),       \n",
    "                StructField('Battalion', StringType(), True),                 \n",
    "                StructField('StationArea', StringType(), True),       \n",
    "                StructField('Box', StringType(), True),       \n",
    "                StructField('OriginalPriority', StringType(), True),       \n",
    "                StructField('Priority', StringType(), True),       \n",
    "                StructField('FinalPriority', IntegerType(), True),       \n",
    "                StructField('ALSUnit', BooleanType(), True),       \n",
    "                StructField('CallTypeGroup', StringType(), True),\n",
    "                StructField('NumAlarms', IntegerType(), True),\n",
    "                StructField('UnitType', StringType(), True),\n",
    "                StructField('UnitSequenceInCallDispatch', IntegerType(), True),\n",
    "                StructField('FirePreventionDistrict', StringType(), True),\n",
    "                StructField('SupervisorDistrict', StringType(), True),\n",
    "                StructField('Neighborhood', StringType(), True),\n",
    "                StructField('Location', StringType(), True),\n",
    "                StructField('RowID', StringType(), True),\n",
    "                StructField('Delay', FloatType(), True)])\n",
    "\n",
    "# Use the DataFrameReader interface to read a CSV file\n",
    "sf_fire_file = \"data/sf-fire-calls.csv\"\n",
    "fire_df = spark.read.csv(sf_fire_file, header=True, sep= \",\",schema=fire_schema)"
   ]
  },
  {
   "cell_type": "code",
   "execution_count": 26,
   "id": "ec9f4b50",
   "metadata": {},
   "outputs": [
    {
     "name": "stdout",
     "output_type": "stream",
     "text": [
      "22/11/25 15:16:27 WARN package: Truncated the string representation of a plan since it was too large. This behavior can be adjusted by setting 'spark.sql.debug.maxToStringFields'.\n",
      "-RECORD 0-----------------------------------------------------------\n",
      " CallNumber                 | 20110016                              \n",
      " UnitID                     | T13                                   \n",
      " IncidentNumber             | 2003235                               \n",
      " CallType                   | Structure Fire                        \n",
      " CallDate                   | 01/11/2002                            \n",
      " WatchDate                  | 01/10/2002                            \n",
      " CallFinalDisposition       | Other                                 \n",
      " AvailableDtTm              | 01/11/2002 01:51:44 AM                \n",
      " Address                    | 2000 Block of CALIFORNIA ST           \n",
      " City                       | SF                                    \n",
      " Zipcode                    | 94109                                 \n",
      " Battalion                  | B04                                   \n",
      " StationArea                | 38                                    \n",
      " Box                        | 3362                                  \n",
      " OriginalPriority           | 3                                     \n",
      " Priority                   | 3                                     \n",
      " FinalPriority              | 3                                     \n",
      " ALSUnit                    | false                                 \n",
      " CallTypeGroup              | null                                  \n",
      " NumAlarms                  | 1                                     \n",
      " UnitType                   | TRUCK                                 \n",
      " UnitSequenceInCallDispatch | 2                                     \n",
      " FirePreventionDistrict     | 4                                     \n",
      " SupervisorDistrict         | 5                                     \n",
      " Neighborhood               | Pacific Heights                       \n",
      " Location                   | (37.7895840679362, -122.428071912459) \n",
      " RowID                      | 020110016-T13                         \n",
      " Delay                      | 2.95                                  \n",
      "-RECORD 1-----------------------------------------------------------\n",
      " CallNumber                 | 20110022                              \n",
      " UnitID                     | M17                                   \n",
      " IncidentNumber             | 2003241                               \n",
      " CallType                   | Medical Incident                      \n",
      " CallDate                   | 01/11/2002                            \n",
      " WatchDate                  | 01/10/2002                            \n",
      " CallFinalDisposition       | Other                                 \n",
      " AvailableDtTm              | 01/11/2002 03:01:18 AM                \n",
      " Address                    | 0 Block of SILVERVIEW DR              \n",
      " City                       | SF                                    \n",
      " Zipcode                    | 94124                                 \n",
      " Battalion                  | B10                                   \n",
      " StationArea                | 42                                    \n",
      " Box                        | 6495                                  \n",
      " OriginalPriority           | 3                                     \n",
      " Priority                   | 3                                     \n",
      " FinalPriority              | 3                                     \n",
      " ALSUnit                    | true                                  \n",
      " CallTypeGroup              | null                                  \n",
      " NumAlarms                  | 1                                     \n",
      " UnitType                   | MEDIC                                 \n",
      " UnitSequenceInCallDispatch | 1                                     \n",
      " FirePreventionDistrict     | 10                                    \n",
      " SupervisorDistrict         | 10                                    \n",
      " Neighborhood               | Bayview Hunters Point                 \n",
      " Location                   | (37.7337623673897, -122.396113802632) \n",
      " RowID                      | 020110022-M17                         \n",
      " Delay                      | 4.7                                   \n",
      "only showing top 2 rows\n",
      "\n"
     ]
    }
   ],
   "source": [
    "fire_df.show(2, vertical=True, truncate=False)"
   ]
  },
  {
   "cell_type": "code",
   "execution_count": 27,
   "id": "69584c74",
   "metadata": {},
   "outputs": [
    {
     "name": "stdout",
     "output_type": "stream",
     "text": [
      "+--------------+----------------+---------+--------------------+---------+\n",
      "|IncidentNumber|        CallType|Battalion|        Neighborhood|    Delay|\n",
      "+--------------+----------------+---------+--------------------+---------+\n",
      "|       2003235|  Structure Fire|      B04|     Pacific Heights|     2.95|\n",
      "|       2003241|Medical Incident|      B10|Bayview Hunters P...|      4.7|\n",
      "|       2003242|Medical Incident|      B03|          Tenderloin|2.4333334|\n",
      "|       2003250|    Vehicle Fire|      B06|      Bernal Heights|      1.5|\n",
      "|       2003259|          Alarms|      B04|    Western Addition|3.4833333|\n",
      "|       2003279|  Structure Fire|      B03|Financial Distric...|     1.75|\n",
      "|       2003301|          Alarms|      B09|Oceanview/Merced/...|2.7166667|\n",
      "|       2003304|          Alarms|      B02|          Tenderloin|1.7833333|\n",
      "|       2003343|Medical Incident|      B04|           Japantown|1.5166667|\n",
      "|       2003348|Medical Incident|      B05| Castro/Upper Market|2.7666667|\n",
      "|       2003381|Medical Incident|      B06|             Mission|2.1833334|\n",
      "|       2003382|  Structure Fire|      B09|           Excelsior|      2.5|\n",
      "|       2003399|Medical Incident|      B04|            Nob Hill|2.4166667|\n",
      "|       2003403|Medical Incident|      B07|      Outer Richmond|     4.95|\n",
      "|       2003408|  Structure Fire|      B06|             Mission|1.4166666|\n",
      "|       2003408|  Structure Fire|      B06|             Mission|2.5333333|\n",
      "|       2003408|  Structure Fire|      B06|             Mission|1.8833333|\n",
      "|       2003409|Medical Incident|      B08|  West of Twin Peaks|     5.35|\n",
      "|       2003417|Medical Incident|      B07|      Inner Richmond|      2.0|\n",
      "|       2003417|Medical Incident|      B07|      Inner Richmond|1.8166667|\n",
      "+--------------+----------------+---------+--------------------+---------+\n",
      "only showing top 20 rows\n",
      "\n"
     ]
    }
   ],
   "source": [
    "fire_df.select(\"IncidentNumber\", \"CallType\", \"Battalion\", \"Neighborhood\", \"Delay\").show()"
   ]
  },
  {
   "cell_type": "code",
   "execution_count": null,
   "id": "074fba9b",
   "metadata": {},
   "outputs": [],
   "source": []
  },
  {
   "cell_type": "code",
   "execution_count": 28,
   "id": "68ff08d0",
   "metadata": {},
   "outputs": [
    {
     "name": "stdout",
     "output_type": "stream",
     "text": [
      "+--------------+----------------------+--------------+\n",
      "|IncidentNumber|AvailableDtTm         |CallType      |\n",
      "+--------------+----------------------+--------------+\n",
      "|2003235       |01/11/2002 01:51:44 AM|Structure Fire|\n",
      "|2003250       |01/11/2002 04:16:46 AM|Vehicle Fire  |\n",
      "|2003259       |01/11/2002 06:01:58 AM|Alarms        |\n",
      "|2003279       |01/11/2002 08:03:26 AM|Structure Fire|\n",
      "|2003301       |01/11/2002 09:46:44 AM|Alarms        |\n",
      "+--------------+----------------------+--------------+\n",
      "only showing top 5 rows\n",
      "\n"
     ]
    }
   ],
   "source": [
    "# In Python\n",
    "few_fire_df = (fire_df\n",
    "  .select(\"IncidentNumber\", \"AvailableDtTm\", \"CallType\") \n",
    "  .where(column(\"CallType\") != \"Medical Incident\"))\n",
    "few_fire_df.show(5, truncate=False)"
   ]
  },
  {
   "cell_type": "code",
   "execution_count": 29,
   "id": "27023dd8",
   "metadata": {},
   "outputs": [
    {
     "data": {
      "text/plain": [
       "['CallNumber',\n",
       " 'UnitID',\n",
       " 'IncidentNumber',\n",
       " 'CallType',\n",
       " 'CallDate',\n",
       " 'WatchDate',\n",
       " 'CallFinalDisposition',\n",
       " 'AvailableDtTm',\n",
       " 'Address',\n",
       " 'City',\n",
       " 'Zipcode',\n",
       " 'Battalion',\n",
       " 'StationArea',\n",
       " 'Box',\n",
       " 'OriginalPriority',\n",
       " 'Priority',\n",
       " 'FinalPriority',\n",
       " 'ALSUnit',\n",
       " 'CallTypeGroup',\n",
       " 'NumAlarms',\n",
       " 'UnitType',\n",
       " 'UnitSequenceInCallDispatch',\n",
       " 'FirePreventionDistrict',\n",
       " 'SupervisorDistrict',\n",
       " 'Neighborhood',\n",
       " 'Location',\n",
       " 'RowID',\n",
       " 'Delay']"
      ]
     },
     "execution_count": 29,
     "metadata": {},
     "output_type": "execute_result"
    }
   ],
   "source": [
    "fire_df.columns"
   ]
  },
  {
   "cell_type": "code",
   "execution_count": 30,
   "id": "038d5c81",
   "metadata": {},
   "outputs": [
    {
     "name": "stdout",
     "output_type": "stream",
     "text": [
      "+--------------+----------+----------+--------------------+--------------------+\n",
      "|      CallType|  CallDate| WatchDate|CallFinalDisposition|        Neighborhood|\n",
      "+--------------+----------+----------+--------------------+--------------------+\n",
      "|Structure Fire|01/11/2002|01/10/2002|               Other|     Pacific Heights|\n",
      "|Structure Fire|01/11/2002|01/11/2002|               Other|Financial Distric...|\n",
      "|Structure Fire|01/11/2002|01/11/2002|               Other|           Excelsior|\n",
      "|Structure Fire|01/11/2002|01/11/2002|               Other|             Mission|\n",
      "|Structure Fire|01/11/2002|01/11/2002|               Other|             Mission|\n",
      "|Structure Fire|01/11/2002|01/11/2002|               Other|             Mission|\n",
      "|Structure Fire|01/11/2002|01/11/2002|               Other|          Tenderloin|\n",
      "|Structure Fire|01/12/2002|01/11/2002|               Other|     South of Market|\n",
      "|Structure Fire|01/12/2002|01/12/2002|               Other|          Tenderloin|\n",
      "|Structure Fire|01/12/2002|01/12/2002|               Other|          Tenderloin|\n",
      "|Structure Fire|01/13/2002|01/13/2002|               Other|          Noe Valley|\n",
      "|Structure Fire|01/13/2002|01/13/2002|               Other|      Outer Richmond|\n",
      "|Structure Fire|01/13/2002|01/13/2002|               Other|      Outer Richmond|\n",
      "|Structure Fire|01/14/2002|01/14/2002|               Other|Bayview Hunters P...|\n",
      "|Structure Fire|01/14/2002|01/14/2002|               Other|       Outer Mission|\n",
      "|Structure Fire|01/14/2002|01/14/2002|               Other|     Sunset/Parkside|\n",
      "|Structure Fire|01/14/2002|01/14/2002|               Other|          Tenderloin|\n",
      "|Structure Fire|01/14/2002|01/14/2002|               Other|             Mission|\n",
      "|Structure Fire|01/15/2002|01/14/2002|               Other|      Outer Richmond|\n",
      "|Structure Fire|01/15/2002|01/14/2002|               Other|      Outer Richmond|\n",
      "+--------------+----------+----------+--------------------+--------------------+\n",
      "only showing top 20 rows\n",
      "\n"
     ]
    }
   ],
   "source": [
    "(fire_df.select('CallType', 'CallDate', 'WatchDate', 'CallFinalDisposition', 'Neighborhood')\n",
    " .where(column('CallType') == \"Structure Fire\").show())"
   ]
  },
  {
   "cell_type": "code",
   "execution_count": 31,
   "id": "f6f3625b",
   "metadata": {},
   "outputs": [
    {
     "name": "stdout",
     "output_type": "stream",
     "text": [
      "+--------------------+------+\n",
      "|            CallType| count|\n",
      "+--------------------+------+\n",
      "|    Medical Incident|113794|\n",
      "|      Structure Fire| 23319|\n",
      "|              Alarms| 19406|\n",
      "|   Traffic Collision|  7013|\n",
      "|Citizen Assist / ...|  2524|\n",
      "|               Other|  2166|\n",
      "|        Outside Fire|  2094|\n",
      "|        Vehicle Fire|   854|\n",
      "|Gas Leak (Natural...|   764|\n",
      "|        Water Rescue|   755|\n",
      "|Odor (Strange / U...|   490|\n",
      "|   Electrical Hazard|   482|\n",
      "|Elevator / Escala...|   453|\n",
      "|Smoke Investigati...|   391|\n",
      "|          Fuel Spill|   193|\n",
      "|              HazMat|   124|\n",
      "|Industrial Accidents|    94|\n",
      "|           Explosion|    89|\n",
      "|Train / Rail Inci...|    57|\n",
      "|  Aircraft Emergency|    36|\n",
      "+--------------------+------+\n",
      "only showing top 20 rows\n",
      "\n"
     ]
    }
   ],
   "source": [
    "fire_df.groupby('CallType').count().sort('Count', ascending=False).show()"
   ]
  },
  {
   "cell_type": "markdown",
   "id": "ffdfd707",
   "metadata": {},
   "source": [
    "## Renaming, adding, and dropping columns"
   ]
  },
  {
   "cell_type": "code",
   "execution_count": 32,
   "id": "8431431b",
   "metadata": {},
   "outputs": [
    {
     "name": "stdout",
     "output_type": "stream",
     "text": [
      "+---------------------+\n",
      "|ResponseDelayedinMins|\n",
      "+---------------------+\n",
      "|5.35                 |\n",
      "|6.25                 |\n",
      "|5.2                  |\n",
      "|5.6                  |\n",
      "|7.25                 |\n",
      "+---------------------+\n",
      "only showing top 5 rows\n",
      "\n"
     ]
    }
   ],
   "source": [
    "# In Python\n",
    "new_fire_df = fire_df.withColumnRenamed(\"Delay\", \"ResponseDelayedinMins\")\n",
    "(new_fire_df\n",
    "  .select(\"ResponseDelayedinMins\")\n",
    "  .where(column(\"ResponseDelayedinMins\") > 5)\n",
    "  .show(5, False))"
   ]
  },
  {
   "cell_type": "code",
   "execution_count": 33,
   "id": "e590d0d8",
   "metadata": {},
   "outputs": [
    {
     "data": {
      "text/plain": [
       "['CallNumber',\n",
       " 'UnitID',\n",
       " 'IncidentNumber',\n",
       " 'CallType',\n",
       " 'CallDate',\n",
       " 'WatchDate',\n",
       " 'CallFinalDisposition',\n",
       " 'AvailableDtTm',\n",
       " 'Address',\n",
       " 'City',\n",
       " 'Zipcode',\n",
       " 'Battalion',\n",
       " 'StationArea',\n",
       " 'Box',\n",
       " 'OriginalPriority',\n",
       " 'Priority',\n",
       " 'FinalPriority',\n",
       " 'ALSUnit',\n",
       " 'CallTypeGroup',\n",
       " 'NumAlarms',\n",
       " 'UnitType',\n",
       " 'UnitSequenceInCallDispatch',\n",
       " 'FirePreventionDistrict',\n",
       " 'SupervisorDistrict',\n",
       " 'Neighborhood',\n",
       " 'Location',\n",
       " 'RowID',\n",
       " 'Delay']"
      ]
     },
     "execution_count": 33,
     "metadata": {},
     "output_type": "execute_result"
    }
   ],
   "source": [
    "fire_df.columns"
   ]
  },
  {
   "cell_type": "code",
   "execution_count": 34,
   "id": "78f21358",
   "metadata": {},
   "outputs": [
    {
     "name": "stdout",
     "output_type": "stream",
     "text": [
      "+---------------------+\n",
      "|ResponseDelayedinMins|\n",
      "+---------------------+\n",
      "|5.35                 |\n",
      "|6.25                 |\n",
      "|5.2                  |\n",
      "|5.6                  |\n",
      "|7.25                 |\n",
      "+---------------------+\n",
      "only showing top 5 rows\n",
      "\n"
     ]
    }
   ],
   "source": [
    "new_fire_df = fire_df.withColumnRenamed(\"Delay\", \"ResponseDelayedinMins\")\n",
    "(new_fire_df\n",
    "  .select(\"ResponseDelayedinMins\")\n",
    "  .where(column(\"ResponseDelayedinMins\") > 5)\n",
    "  .show(5, False))"
   ]
  },
  {
   "cell_type": "code",
   "execution_count": 35,
   "id": "ff083ac6",
   "metadata": {},
   "outputs": [],
   "source": [
    "from pyspark.sql.functions import to_timestamp, to_date, year"
   ]
  },
  {
   "cell_type": "code",
   "execution_count": 36,
   "id": "d65af171",
   "metadata": {},
   "outputs": [
    {
     "name": "stdout",
     "output_type": "stream",
     "text": [
      "+-------------------+-----------+-------------------+\n",
      "|IncidentDate       |OnWatchDate|AvailableDtTS      |\n",
      "+-------------------+-----------+-------------------+\n",
      "|2002-01-11 00:00:00|2002-01-10 |2002-01-11 01:51:44|\n",
      "|2002-01-11 00:00:00|2002-01-10 |2002-01-11 03:01:18|\n",
      "|2002-01-11 00:00:00|2002-01-10 |2002-01-11 02:39:50|\n",
      "|2002-01-11 00:00:00|2002-01-10 |2002-01-11 04:16:46|\n",
      "|2002-01-11 00:00:00|2002-01-10 |2002-01-11 06:01:58|\n",
      "+-------------------+-----------+-------------------+\n",
      "only showing top 5 rows\n",
      "\n"
     ]
    }
   ],
   "source": [
    "# In Python\n",
    "fire_ts_df = (new_fire_df\n",
    "  .withColumn(\"IncidentDate\", to_timestamp(column(\"CallDate\"), \"MM/dd/yyyy\")).drop(\"CallDate\") \n",
    "  .withColumn(\"OnWatchDate\", to_date(column(\"WatchDate\"), \"MM/dd/yyyy\")).drop(\"WatchDate\") \n",
    "  .withColumn(\"AvailableDtTS\", to_timestamp(column(\"AvailableDtTm\"), \"MM/dd/yyyy hh:mm:ss a\")).drop(\"AvailableDtTm\"))\n",
    "\n",
    "# Select the converted columns\n",
    "(fire_ts_df\n",
    "  .select(\"IncidentDate\", \"OnWatchDate\", \"AvailableDtTS\")\n",
    "  .show(5, False))"
   ]
  },
  {
   "cell_type": "code",
   "execution_count": 37,
   "id": "c0659f8f",
   "metadata": {},
   "outputs": [
    {
     "name": "stdout",
     "output_type": "stream",
     "text": [
      "+------------------+\n",
      "|year(IncidentDate)|\n",
      "+------------------+\n",
      "|              2000|\n",
      "|              2001|\n",
      "|              2002|\n",
      "|              2003|\n",
      "|              2004|\n",
      "|              2005|\n",
      "|              2006|\n",
      "|              2007|\n",
      "|              2008|\n",
      "|              2009|\n",
      "|              2010|\n",
      "|              2011|\n",
      "|              2012|\n",
      "|              2013|\n",
      "|              2014|\n",
      "|              2015|\n",
      "|              2016|\n",
      "|              2017|\n",
      "|              2018|\n",
      "+------------------+\n",
      "\n"
     ]
    }
   ],
   "source": [
    "# In Python\n",
    "(fire_ts_df\n",
    "  .select(year('IncidentDate'))\n",
    "  .distinct()\n",
    "  .orderBy(year('IncidentDate'))\n",
    "  .show())"
   ]
  },
  {
   "cell_type": "code",
   "execution_count": 38,
   "id": "49c3ec8b",
   "metadata": {},
   "outputs": [
    {
     "name": "stdout",
     "output_type": "stream",
     "text": [
      "+------------------+-----+\n",
      "|year(IncidentDate)|count|\n",
      "+------------------+-----+\n",
      "|              2018|10136|\n",
      "|              2017|12135|\n",
      "|              2016|11609|\n",
      "|              2015|11458|\n",
      "|              2014|10775|\n",
      "|              2013|10020|\n",
      "|              2012| 9674|\n",
      "|              2011| 9735|\n",
      "|              2010| 9341|\n",
      "|              2009| 8789|\n",
      "|              2008| 8869|\n",
      "|              2007| 8255|\n",
      "|              2006| 8174|\n",
      "|              2005| 8282|\n",
      "|              2004| 8283|\n",
      "|              2003| 8499|\n",
      "|              2002| 8090|\n",
      "|              2001| 7713|\n",
      "|              2000| 5459|\n",
      "+------------------+-----+\n",
      "\n"
     ]
    }
   ],
   "source": [
    "fire_ts_df.groupby(year('IncidentDate')).count().sort('year(IncidentDate)', ascending=False).show()"
   ]
  },
  {
   "cell_type": "markdown",
   "id": "596ff142",
   "metadata": {},
   "source": [
    "#### Let’s take our first question: what were the most common types of fire calls?"
   ]
  },
  {
   "cell_type": "code",
   "execution_count": 39,
   "id": "45c34353",
   "metadata": {},
   "outputs": [
    {
     "name": "stdout",
     "output_type": "stream",
     "text": [
      "+-------------------------------+------+\n",
      "|CallType                       |count |\n",
      "+-------------------------------+------+\n",
      "|Medical Incident               |113794|\n",
      "|Structure Fire                 |23319 |\n",
      "|Alarms                         |19406 |\n",
      "|Traffic Collision              |7013  |\n",
      "|Citizen Assist / Service Call  |2524  |\n",
      "|Other                          |2166  |\n",
      "|Outside Fire                   |2094  |\n",
      "|Vehicle Fire                   |854   |\n",
      "|Gas Leak (Natural and LP Gases)|764   |\n",
      "|Water Rescue                   |755   |\n",
      "+-------------------------------+------+\n",
      "only showing top 10 rows\n",
      "\n"
     ]
    }
   ],
   "source": [
    "# In Python\n",
    "(fire_ts_df\n",
    "  .select(\"CallType\")\n",
    "  .where(column(\"CallType\").isNotNull())\n",
    "  .groupBy(\"CallType\")\n",
    "  .count()\n",
    "  .orderBy(\"count\", ascending=False)\n",
    "  .show(n=10, truncate=False))"
   ]
  },
  {
   "cell_type": "code",
   "execution_count": 40,
   "id": "8e5075b3",
   "metadata": {},
   "outputs": [
    {
     "name": "stdout",
     "output_type": "stream",
     "text": [
      "-RECORD 0------------------------------------------\n",
      " CallNumber                 | 20110016             \n",
      " UnitID                     | T13                  \n",
      " IncidentNumber             | 2003235              \n",
      " CallType                   | Structure Fire       \n",
      " CallFinalDisposition       | Other                \n",
      " Address                    | 2000 Block of CAL... \n",
      " City                       | SF                   \n",
      " Zipcode                    | 94109                \n",
      " Battalion                  | B04                  \n",
      " StationArea                | 38                   \n",
      " Box                        | 3362                 \n",
      " OriginalPriority           | 3                    \n",
      " Priority                   | 3                    \n",
      " FinalPriority              | 3                    \n",
      " ALSUnit                    | false                \n",
      " CallTypeGroup              | null                 \n",
      " NumAlarms                  | 1                    \n",
      " UnitType                   | TRUCK                \n",
      " UnitSequenceInCallDispatch | 2                    \n",
      " FirePreventionDistrict     | 4                    \n",
      " SupervisorDistrict         | 5                    \n",
      " Neighborhood               | Pacific Heights      \n",
      " Location                   | (37.7895840679362... \n",
      " RowID                      | 020110016-T13        \n",
      " ResponseDelayedinMins      | 2.95                 \n",
      " IncidentDate               | 2002-01-11 00:00:00  \n",
      " OnWatchDate                | 2002-01-10           \n",
      " AvailableDtTS              | 2002-01-11 01:51:44  \n",
      "only showing top 1 row\n",
      "\n"
     ]
    }
   ],
   "source": [
    "fire_ts_df.show(1, vertical=True)"
   ]
  },
  {
   "cell_type": "code",
   "execution_count": 41,
   "id": "426c476a",
   "metadata": {},
   "outputs": [],
   "source": [
    "subset_col = [\n",
    " 'CallType',\n",
    " 'CallFinalDisposition',\n",
    " 'City',\n",
    " 'Zipcode',\n",
    " 'Battalion',\n",
    " 'NumAlarms',\n",
    " 'UnitType',\n",
    " 'Neighborhood',\n",
    " 'Location',\n",
    " 'ResponseDelayedinMins',\n",
    " 'IncidentDate']"
   ]
  },
  {
   "cell_type": "code",
   "execution_count": 42,
   "id": "e6d00fa8",
   "metadata": {},
   "outputs": [
    {
     "name": "stdout",
     "output_type": "stream",
     "text": [
      "-RECORD 0-------------------------------------\n",
      " CallType              | Structure Fire       \n",
      " CallFinalDisposition  | Other                \n",
      " City                  | SF                   \n",
      " Zipcode               | 94109                \n",
      " Battalion             | B04                  \n",
      " NumAlarms             | 1                    \n",
      " UnitType              | TRUCK                \n",
      " Neighborhood          | Pacific Heights      \n",
      " Location              | (37.7895840679362... \n",
      " ResponseDelayedinMins | 2.95                 \n",
      " IncidentDate          | 2002-01-11 00:00:00  \n",
      "-RECORD 1-------------------------------------\n",
      " CallType              | Medical Incident     \n",
      " CallFinalDisposition  | Other                \n",
      " City                  | SF                   \n",
      " Zipcode               | 94124                \n",
      " Battalion             | B10                  \n",
      " NumAlarms             | 1                    \n",
      " UnitType              | MEDIC                \n",
      " Neighborhood          | Bayview Hunters P... \n",
      " Location              | (37.7337623673897... \n",
      " ResponseDelayedinMins | 4.7                  \n",
      " IncidentDate          | 2002-01-11 00:00:00  \n",
      "-RECORD 2-------------------------------------\n",
      " CallType              | Medical Incident     \n",
      " CallFinalDisposition  | Other                \n",
      " City                  | SF                   \n",
      " Zipcode               | 94102                \n",
      " Battalion             | B03                  \n",
      " NumAlarms             | 1                    \n",
      " UnitType              | MEDIC                \n",
      " Neighborhood          | Tenderloin           \n",
      " Location              | (37.7811772186856... \n",
      " ResponseDelayedinMins | 2.4333334            \n",
      " IncidentDate          | 2002-01-11 00:00:00  \n",
      "-RECORD 3-------------------------------------\n",
      " CallType              | Vehicle Fire         \n",
      " CallFinalDisposition  | Other                \n",
      " City                  | SF                   \n",
      " Zipcode               | 94110                \n",
      " Battalion             | B06                  \n",
      " NumAlarms             | 1                    \n",
      " UnitType              | ENGINE               \n",
      " Neighborhood          | Bernal Heights       \n",
      " Location              | (37.7388432849018... \n",
      " ResponseDelayedinMins | 1.5                  \n",
      " IncidentDate          | 2002-01-11 00:00:00  \n",
      "-RECORD 4-------------------------------------\n",
      " CallType              | Alarms               \n",
      " CallFinalDisposition  | Other                \n",
      " City                  | SF                   \n",
      " Zipcode               | 94109                \n",
      " Battalion             | B04                  \n",
      " NumAlarms             | 1                    \n",
      " UnitType              | CHIEF                \n",
      " Neighborhood          | Western Addition     \n",
      " Location              | (37.7872890372638... \n",
      " ResponseDelayedinMins | 3.4833333            \n",
      " IncidentDate          | 2002-01-11 00:00:00  \n",
      "only showing top 5 rows\n",
      "\n"
     ]
    }
   ],
   "source": [
    "fire_ts_df.select(subset_col).show(5, vertical=True)"
   ]
  },
  {
   "cell_type": "markdown",
   "id": "df31e54f",
   "metadata": {},
   "source": [
    "### Other Common DataFrame Operations"
   ]
  },
  {
   "cell_type": "code",
   "execution_count": 43,
   "id": "9235a79d",
   "metadata": {},
   "outputs": [
    {
     "name": "stdout",
     "output_type": "stream",
     "text": [
      "+--------------+--------------------------+--------------------------+--------------------------+\n",
      "|sum(NumAlarms)|avg(ResponseDelayedinMins)|min(ResponseDelayedinMins)|max(ResponseDelayedinMins)|\n",
      "+--------------+--------------------------+--------------------------+--------------------------+\n",
      "|        176170|         3.892364154521585|               0.016666668|                   1844.55|\n",
      "+--------------+--------------------------+--------------------------+--------------------------+\n",
      "\n"
     ]
    }
   ],
   "source": [
    "import pyspark.sql.functions as F\n",
    "\n",
    "fire_ts_df.select(F.sum('NumAlarms'), \n",
    "                  F.avg('ResponseDelayedinMins'), \n",
    "                  F.min('ResponseDelayedinMins'),\n",
    "                  F.max('ResponseDelayedinMins')).show()"
   ]
  },
  {
   "cell_type": "code",
   "execution_count": 44,
   "id": "a8046c8a",
   "metadata": {},
   "outputs": [
    {
     "ename": "AttributeError",
     "evalue": "module 'pyspark.sql.functions' has no attribute 'st'",
     "output_type": "error",
     "traceback": [
      "\u001b[0;31m---------------------------------------------------------------------------\u001b[0m",
      "\u001b[0;31mAttributeError\u001b[0m                            Traceback (most recent call last)",
      "Input \u001b[0;32mIn [44]\u001b[0m, in \u001b[0;36m<cell line: 1>\u001b[0;34m()\u001b[0m\n\u001b[0;32m----> 1\u001b[0m \u001b[43mF\u001b[49m\u001b[38;5;241;43m.\u001b[39;49m\u001b[43mst\u001b[49m\n",
      "\u001b[0;31mAttributeError\u001b[0m: module 'pyspark.sql.functions' has no attribute 'st'"
     ]
    }
   ],
   "source": [
    "F.st"
   ]
  }
 ],
 "metadata": {
  "kernelspec": {
   "display_name": "PySpark 3.3 (Python 3.9)",
   "language": "python",
   "name": "pyspark3"
  },
  "language_info": {
   "codemirror_mode": {
    "name": "ipython",
    "version": 3
   },
   "file_extension": ".py",
   "mimetype": "text/x-python",
   "name": "python",
   "nbconvert_exporter": "python",
   "pygments_lexer": "ipython3",
   "version": "3.9.13"
  }
 },
 "nbformat": 4,
 "nbformat_minor": 5
}
